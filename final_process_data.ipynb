{
 "cells": [
  {
   "cell_type": "markdown",
   "metadata": {},
   "source": [
    "第一步：手动替换掉所有双引号"
   ]
  },
  {
   "cell_type": "markdown",
   "metadata": {},
   "source": [
    "第二步：用纠正过的文字替换抽取的文字"
   ]
  },
  {
   "cell_type": "code",
   "execution_count": null,
   "metadata": {},
   "outputs": [],
   "source": [
    "import pandas as pd"
   ]
  },
  {
   "cell_type": "code",
   "execution_count": 9,
   "metadata": {},
   "outputs": [],
   "source": [
    "#把纠正过的文字加入\n",
    "def add_corrected_text(df):\n",
    "    i=0\n",
    "    while i < len(df):\n",
    "        if df['corrected_text'][i] == \" \":\n",
    "            df['corrected_text'][i] = df['OCR_extracted_text'][i]\n",
    "        i=i+1\n",
    "    return df"
   ]
  },
  {
   "cell_type": "code",
   "execution_count": 11,
   "metadata": {
    "scrolled": true
   },
   "outputs": [],
   "source": [
    "df_train = pd.read_csv(\"train.csv\")\n",
    "df_trial = pd.read_csv(\"trial.csv\")\n",
    "add_corrected_text(df_train).to_csv(\"train_correct.csv\",index = False)\n",
    "add_corrected_text(df_trial).to_csv(\"trial_correct.csv\",index = False)\n",
    "#保存的文件只有一条经过手动更改过"
   ]
  },
  {
   "cell_type": "markdown",
   "metadata": {},
   "source": [
    "第三步：做数字替换"
   ]
  },
  {
   "cell_type": "markdown",
   "metadata": {},
   "source": [
    "TaskA：positive为1，neutral为0，negative为2"
   ]
  },
  {
   "cell_type": "code",
   "execution_count": 14,
   "metadata": {},
   "outputs": [],
   "source": [
    "def taskA(df):\n",
    "    df_copy=df.copy(deep=True)\n",
    "    i=0\n",
    "    while i < len(df):\n",
    "        if df_copy['Overall_Sentiment'][i]=='very_positive' or df_copy['Overall_Sentiment'][i]=='positive':\n",
    "            df['Overall_Sentiment'][i]=1\n",
    "        elif df_copy['Overall_Sentiment'][i]=='very_negative' or df_copy['Overall_Sentiment'][i]=='negative':\n",
    "            df['Overall_Sentiment'][i]=2\n",
    "        elif df_copy['Overall_Sentiment'][i]=='neutral':\n",
    "            df['Overall_Sentiment'][i]=0\n",
    "        else:\n",
    "            print(i)\n",
    "        i=i+1\n",
    "    return df"
   ]
  },
  {
   "cell_type": "code",
   "execution_count": 15,
   "metadata": {},
   "outputs": [],
   "source": [
    "df_train = pd.read_csv(\"train_correct.csv\")\n",
    "df_trial = pd.read_csv(\"trial_correct.csv\")\n",
    "df_train = taskA(df_train)\n",
    "df_trial = taskA(df_trial)\n",
    "#选出taskA需要的列\n",
    "dict_df_train = {'label':df_train['Overall_Sentiment'], 'Text':df_train['corrected_text'], 'Image_name': df_train['Image_name']}\n",
    "pd.DataFrame(dict_df_train).to_csv(\"taskA/Task_A_train.csv\",index=False)\n",
    "\n",
    "dict_df_trial = {'label':df_trial['Overall_Sentiment'], 'Text':df_trial['corrected_text'], 'Image_name': df_trial['Image_name']}\n",
    "pd.DataFrame(dict_df_trial).to_csv(\"taskA/Task_A_trial.csv\",index=False)"
   ]
  },
  {
   "cell_type": "markdown",
   "metadata": {},
   "source": [
    "TaskB:将label替换为0/1"
   ]
  },
  {
   "cell_type": "code",
   "execution_count": 16,
   "metadata": {},
   "outputs": [],
   "source": [
    "#not_funny为0，其余为1\n",
    "def taskB_1(df):\n",
    "    df_copy=df.copy(deep=True)\n",
    "    i=0\n",
    "    while i < len(df):\n",
    "        if df_copy['Humour'][i]=='not_funny':\n",
    "            df['Humour'][i]=0\n",
    "        elif df_copy['Humour'][i]=='funny' or df_copy['Humour'][i]=='very_funny'or df_copy['Humour'][i]=='hilarious':\n",
    "            df['Humour'][i]=1\n",
    "        else:\n",
    "            print(i)\n",
    "        i=i+1\n",
    "    return df"
   ]
  },
  {
   "cell_type": "code",
   "execution_count": 17,
   "metadata": {},
   "outputs": [],
   "source": [
    "df_train = taskB_1(df_train)\n",
    "df_trial = taskB_1(df_trial)\n",
    "\n",
    "#选出taskB_1需要的列\n",
    "dict_df_train = {'label':df_train['Humour'], 'Text':df_train['corrected_text'], 'Image_name': df_train['Image_name']}\n",
    "pd.DataFrame(dict_df_train).to_csv(\"taskB/Task_B_train_1.csv\",index=False)\n",
    "\n",
    "dict_df_trial = {'label':df_trial['Humour'], 'Text':df_trial['corrected_text'], 'Image_name': df_trial['Image_name']}\n",
    "pd.DataFrame(dict_df_trial).to_csv(\"taskB/Task_B_trial_1.csv\",index=False)"
   ]
  },
  {
   "cell_type": "code",
   "execution_count": 18,
   "metadata": {},
   "outputs": [],
   "source": [
    "#not_sarcastic为0，其余为1\n",
    "def taskB_2(df):\n",
    "    df_copy=df.copy(deep=True)\n",
    "    i=0\n",
    "    while i < len(df):\n",
    "        if df_copy['Sarcasm'][i]=='not_sarcastic':\n",
    "            df['Sarcasm'][i]=0\n",
    "        elif df_copy['Sarcasm'][i]=='general' or df_copy['Sarcasm'][i]=='twisted_meaning'or df_copy['Sarcasm'][i]=='very_twisted':\n",
    "            df['Sarcasm'][i]=1\n",
    "        else:\n",
    "            print(i)\n",
    "        i=i+1\n",
    "    return df"
   ]
  },
  {
   "cell_type": "code",
   "execution_count": 19,
   "metadata": {},
   "outputs": [],
   "source": [
    "df_train = taskB_2(df_train)\n",
    "df_trial = taskB_2(df_trial)\n",
    "\n",
    "#选出taskB_1需要的列\n",
    "dict_df_train = {'label':df_train['Sarcasm'], 'Text':df_train['corrected_text'], 'Image_name': df_train['Image_name']}\n",
    "pd.DataFrame(dict_df_train).to_csv(\"taskB/Task_B_train_2.csv\",index=False)\n",
    "\n",
    "dict_df_trial = {'label':df_trial['Sarcasm'], 'Text':df_trial['corrected_text'], 'Image_name': df_trial['Image_name']}\n",
    "pd.DataFrame(dict_df_trial).to_csv(\"taskB/Task_B_trial_2.csv\",index=False)"
   ]
  },
  {
   "cell_type": "code",
   "execution_count": 20,
   "metadata": {},
   "outputs": [],
   "source": [
    "#not_offensive为0，其余为1\n",
    "def taskB_3(df):\n",
    "    df_copy=df.copy(deep=True)\n",
    "    i=0\n",
    "    while i < len(df):\n",
    "        if df_copy['offensive'][i]=='not_offensive':\n",
    "            df['offensive'][i]=0\n",
    "        elif df_copy['offensive'][i]=='slight' or df_copy['offensive'][i]=='very_offensive'or df_copy['offensive'][i]=='hateful_offensive':\n",
    "            df['offensive'][i]=1\n",
    "        else:\n",
    "            print(i)\n",
    "        i=i+1\n",
    "    return df"
   ]
  },
  {
   "cell_type": "code",
   "execution_count": 21,
   "metadata": {},
   "outputs": [],
   "source": [
    "df_train = taskB_3(df_train)\n",
    "df_trial = taskB_3(df_trial)\n",
    "\n",
    "#选出taskB_1需要的列\n",
    "dict_df_train = {'label':df_train['offensive'], 'Text':df_train['corrected_text'], 'Image_name': df_train['Image_name']}\n",
    "pd.DataFrame(dict_df_train).to_csv(\"taskB/Task_B_train_3.csv\",index=False)\n",
    "\n",
    "dict_df_trial = {'label':df_trial['offensive'], 'Text':df_trial['corrected_text'], 'Image_name': df_trial['Image_name']}\n",
    "pd.DataFrame(dict_df_trial).to_csv(\"taskB/Task_B_trial_3.csv\",index=False)"
   ]
  },
  {
   "cell_type": "code",
   "execution_count": 22,
   "metadata": {},
   "outputs": [],
   "source": [
    "#not_motivational为0，其余为1\n",
    "#以防万一再处理数据\n",
    "def taskB_4(df):\n",
    "    df_copy=df.copy(deep=True)\n",
    "    i=0\n",
    "    while i < len(df):\n",
    "        if df_copy['Motivational'][i]=='not_motivational':\n",
    "            df['Motivational'][i]=0\n",
    "        elif df_copy['Motivational'][i]=='motivational':\n",
    "            df['Motivational'][i]=1\n",
    "        else:\n",
    "            print(i)\n",
    "        i=i+1\n",
    "    return df "
   ]
  },
  {
   "cell_type": "code",
   "execution_count": 23,
   "metadata": {},
   "outputs": [],
   "source": [
    "df_train = taskB_4(df_train)\n",
    "df_trial = taskB_4(df_trial)\n",
    "\n",
    "#选出taskB_1需要的列\n",
    "dict_df_train = {'label':df_train['Motivational'], 'Text':df_train['corrected_text'], 'Image_name': df_train['Image_name']}\n",
    "pd.DataFrame(dict_df_train).to_csv(\"taskB/Task_B_train_4.csv\",index=False)\n",
    "\n",
    "dict_df_trial = {'label':df_trial['Motivational'], 'Text':df_trial['corrected_text'], 'Image_name': df_trial['Image_name']}\n",
    "pd.DataFrame(dict_df_trial).to_csv(\"taskB/Task_B_trial_4.csv\",index=False)"
   ]
  },
  {
   "cell_type": "markdown",
   "metadata": {},
   "source": [
    "检验总数是否一致"
   ]
  },
  {
   "cell_type": "code",
   "execution_count": 24,
   "metadata": {},
   "outputs": [
    {
     "data": {
      "text/plain": [
       "funny         2457\n",
       "very_funny    2240\n",
       "not_funny     1651\n",
       "hilarious      652\n",
       "Name: Humour, dtype: int64"
      ]
     },
     "execution_count": 24,
     "metadata": {},
     "output_type": "execute_result"
    }
   ],
   "source": [
    "pd.read_csv('train.csv').Humour.value_counts()"
   ]
  },
  {
   "cell_type": "code",
   "execution_count": 29,
   "metadata": {},
   "outputs": [
    {
     "data": {
      "text/plain": [
       "1    5349\n",
       "0    1651\n",
       "Name: label, dtype: int64"
      ]
     },
     "execution_count": 29,
     "metadata": {},
     "output_type": "execute_result"
    }
   ],
   "source": [
    "pd.read_csv('taskB/Task_B_train_1.csv').label.value_counts()"
   ]
  },
  {
   "cell_type": "code",
   "execution_count": 31,
   "metadata": {},
   "outputs": [
    {
     "data": {
      "text/plain": [
       "5349"
      ]
     },
     "execution_count": 31,
     "metadata": {},
     "output_type": "execute_result"
    }
   ],
   "source": [
    "2457+2240+652"
   ]
  },
  {
   "cell_type": "code",
   "execution_count": 33,
   "metadata": {},
   "outputs": [
    {
     "data": {
      "text/plain": [
       "general            3511\n",
       "twisted_meaning    1549\n",
       "not_sarcastic      1546\n",
       "very_twisted        394\n",
       "Name: Sarcasm, dtype: int64"
      ]
     },
     "execution_count": 33,
     "metadata": {},
     "output_type": "execute_result"
    }
   ],
   "source": [
    "pd.read_csv('train.csv').Sarcasm.value_counts()"
   ]
  },
  {
   "cell_type": "code",
   "execution_count": 34,
   "metadata": {},
   "outputs": [
    {
     "data": {
      "text/plain": [
       "1    5454\n",
       "0    1546\n",
       "Name: label, dtype: int64"
      ]
     },
     "execution_count": 34,
     "metadata": {},
     "output_type": "execute_result"
    }
   ],
   "source": [
    "pd.read_csv('taskB/Task_B_train_2.csv').label.value_counts()"
   ]
  },
  {
   "cell_type": "code",
   "execution_count": 35,
   "metadata": {},
   "outputs": [
    {
     "data": {
      "text/plain": [
       "5454"
      ]
     },
     "execution_count": 35,
     "metadata": {},
     "output_type": "execute_result"
    }
   ],
   "source": [
    "3511+1549+394"
   ]
  },
  {
   "cell_type": "code",
   "execution_count": 36,
   "metadata": {},
   "outputs": [
    {
     "data": {
      "text/plain": [
       "not_offensive        2715\n",
       "slight               2595\n",
       "very_offensive       1469\n",
       "hateful_offensive     221\n",
       "Name: offensive, dtype: int64"
      ]
     },
     "execution_count": 36,
     "metadata": {},
     "output_type": "execute_result"
    }
   ],
   "source": [
    "pd.read_csv('train.csv').offensive.value_counts()"
   ]
  },
  {
   "cell_type": "code",
   "execution_count": 37,
   "metadata": {},
   "outputs": [
    {
     "data": {
      "text/plain": [
       "1    4285\n",
       "0    2715\n",
       "Name: label, dtype: int64"
      ]
     },
     "execution_count": 37,
     "metadata": {},
     "output_type": "execute_result"
    }
   ],
   "source": [
    "pd.read_csv('taskB/Task_B_train_3.csv').label.value_counts()"
   ]
  },
  {
   "cell_type": "code",
   "execution_count": 38,
   "metadata": {},
   "outputs": [
    {
     "data": {
      "text/plain": [
       "4285"
      ]
     },
     "execution_count": 38,
     "metadata": {},
     "output_type": "execute_result"
    }
   ],
   "source": [
    "2595+1469+221"
   ]
  },
  {
   "cell_type": "code",
   "execution_count": 39,
   "metadata": {},
   "outputs": [
    {
     "data": {
      "text/plain": [
       "not_motivational    4530\n",
       "motivational        2470\n",
       "Name: Motivational, dtype: int64"
      ]
     },
     "execution_count": 39,
     "metadata": {},
     "output_type": "execute_result"
    }
   ],
   "source": [
    "pd.read_csv('train.csv').Motivational.value_counts()"
   ]
  },
  {
   "cell_type": "code",
   "execution_count": 40,
   "metadata": {},
   "outputs": [
    {
     "data": {
      "text/plain": [
       "0    4530\n",
       "1    2470\n",
       "Name: label, dtype: int64"
      ]
     },
     "execution_count": 40,
     "metadata": {},
     "output_type": "execute_result"
    }
   ],
   "source": [
    "pd.read_csv('taskB/Task_B_train_4.csv').label.value_counts()"
   ]
  },
  {
   "cell_type": "markdown",
   "metadata": {},
   "source": [
    "taskC:将label替换为0/1/2/3"
   ]
  },
  {
   "cell_type": "code",
   "execution_count": 41,
   "metadata": {},
   "outputs": [],
   "source": [
    "#not_funny为0，funny为1，very_funny为2，hilarious为3\n",
    "def taskC_1(df):\n",
    "    df_copy=df.copy(deep=True)\n",
    "    i=0\n",
    "    while i < len(df):\n",
    "        if df_copy['Humour'][i]=='not_funny':\n",
    "            df['Humour'][i]=0\n",
    "        elif df_copy['Humour'][i]=='funny':\n",
    "            df['Humour'][i]=1\n",
    "        elif df_copy['Humour'][i]=='very_funny':\n",
    "            df['Humour'][i]=2\n",
    "        elif df_copy['Humour'][i]=='hilarious':\n",
    "            df['Humour'][i]=3        \n",
    "        i=i+1\n",
    "    dict_df = {'label':df['Humour'], 'Text':df['corrected_text'], 'Image_name': df['Image_name']}\n",
    "    return pd.DataFrame(dict_df)"
   ]
  },
  {
   "cell_type": "code",
   "execution_count": 44,
   "metadata": {},
   "outputs": [],
   "source": [
    "df_train = pd.read_csv('train_correct.csv')\n",
    "df_trial = pd.read_csv('trial_correct.csv')\n",
    "\n",
    "taskC_1(df_train).to_csv(\"taskC/Task_C_train_1.csv\",index=False)\n",
    "taskC_1(df_trial).to_csv(\"taskC/Task_C_trial_1.csv\",index=False)"
   ]
  },
  {
   "cell_type": "code",
   "execution_count": 45,
   "metadata": {},
   "outputs": [
    {
     "data": {
      "text/plain": [
       "1    2457\n",
       "2    2240\n",
       "0    1651\n",
       "3     652\n",
       "Name: label, dtype: int64"
      ]
     },
     "execution_count": 45,
     "metadata": {},
     "output_type": "execute_result"
    }
   ],
   "source": [
    "pd.read_csv('taskC/Task_C_train_1.csv').label.value_counts()"
   ]
  },
  {
   "cell_type": "code",
   "execution_count": 46,
   "metadata": {},
   "outputs": [],
   "source": [
    "#不确定哪个是2哪个是3\n",
    "def taskC_2(df):\n",
    "    df_copy=df.copy(deep=True)\n",
    "    i=0\n",
    "    while i < len(df):\n",
    "        if df_copy['Sarcasm'][i]=='not_sarcastic':\n",
    "            df['Sarcasm'][i]=0\n",
    "        elif df_copy['Sarcasm'][i]=='general':\n",
    "            df['Sarcasm'][i]=1\n",
    "        elif df_copy['Sarcasm'][i]=='twisted_meaning':\n",
    "            df['Sarcasm'][i]=3\n",
    "        elif df_copy['Sarcasm'][i]=='very_twisted':\n",
    "            df['Sarcasm'][i]=2    \n",
    "        i=i+1\n",
    "    dict_df = {'label':df['Sarcasm'], 'Text':df['corrected_text'], 'Image_name': df['Image_name']}\n",
    "    return pd.DataFrame(dict_df)"
   ]
  },
  {
   "cell_type": "code",
   "execution_count": 47,
   "metadata": {},
   "outputs": [],
   "source": [
    "taskC_2(df_train).to_csv(\"taskC/Task_C_train_2.csv\",index=False)\n",
    "taskC_2(df_trial).to_csv(\"taskC/Task_C_trial_2.csv\",index=False)"
   ]
  },
  {
   "cell_type": "code",
   "execution_count": 48,
   "metadata": {},
   "outputs": [
    {
     "data": {
      "text/plain": [
       "1    3511\n",
       "3    1549\n",
       "0    1546\n",
       "2     394\n",
       "Name: label, dtype: int64"
      ]
     },
     "execution_count": 48,
     "metadata": {},
     "output_type": "execute_result"
    }
   ],
   "source": [
    "pd.read_csv('taskC/Task_C_train_2.csv').label.value_counts()"
   ]
  },
  {
   "cell_type": "code",
   "execution_count": 49,
   "metadata": {},
   "outputs": [],
   "source": [
    "def taskC_3(df):\n",
    "    df_copy=df.copy(deep=True)\n",
    "    i=0\n",
    "    while i < len(df):\n",
    "        if df_copy['offensive'][i]=='not_offensive':\n",
    "            df['offensive'][i]=0\n",
    "        elif df_copy['offensive'][i]=='slight':\n",
    "            df['offensive'][i]=1\n",
    "        elif df_copy['offensive'][i]=='twisted_meaning':\n",
    "            df['offensive'][i]=3\n",
    "        elif df_copy['offensive'][i]=='very_offensive':\n",
    "            df['offensive'][i]=2    \n",
    "        i=i+1\n",
    "    dict_df = {'label':df['offensive'], 'Text':df['corrected_text'], 'Image_name': df['Image_name']}\n",
    "    return pd.DataFrame(dict_df)"
   ]
  },
  {
   "cell_type": "code",
   "execution_count": 50,
   "metadata": {},
   "outputs": [],
   "source": [
    "taskC_3(df_train).to_csv(\"taskC/Task_C_train_3.csv\",index=False)\n",
    "taskC_3(df_trial).to_csv(\"taskC/Task_C_trial_3.csv\",index=False)"
   ]
  },
  {
   "cell_type": "code",
   "execution_count": 51,
   "metadata": {},
   "outputs": [
    {
     "data": {
      "text/plain": [
       "0                    2715\n",
       "1                    2595\n",
       "2                    1469\n",
       "hateful_offensive     221\n",
       "Name: label, dtype: int64"
      ]
     },
     "execution_count": 51,
     "metadata": {},
     "output_type": "execute_result"
    }
   ],
   "source": [
    "pd.read_csv('taskC/Task_C_train_3.csv').label.value_counts()"
   ]
  },
  {
   "cell_type": "code",
   "execution_count": null,
   "metadata": {},
   "outputs": [],
   "source": []
  }
 ],
 "metadata": {
  "kernelspec": {
   "display_name": "Python 3",
   "language": "python",
   "name": "python3"
  },
  "language_info": {
   "codemirror_mode": {
    "name": "ipython",
    "version": 3
   },
   "file_extension": ".py",
   "mimetype": "text/x-python",
   "name": "python",
   "nbconvert_exporter": "python",
   "pygments_lexer": "ipython3",
   "version": "3.6.8"
  }
 },
 "nbformat": 4,
 "nbformat_minor": 2
}
