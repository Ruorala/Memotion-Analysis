{
 "cells": [
  {
   "cell_type": "markdown",
   "metadata": {},
   "source": [
    "1.pip install keras_bert\n",
    "2.将图片放在img里面"
   ]
  },
  {
   "cell_type": "code",
   "execution_count": 32,
   "metadata": {},
   "outputs": [],
   "source": [
    "import pandas as pd\n",
    "import numpy as np\n",
    "import codecs\n",
    "import os\n",
    "\n",
    "from keras.models import load_model\n",
    "from keras.preprocessing import image\n",
    "#有用户自定义层，需要使用get_custom_objects来加载\n",
    "from keras_bert import get_custom_objects,Tokenizer\n",
    "\n",
    "from PIL import ImageFile\n",
    "ImageFile.LOAD_TRUNCATED_IMAGES = True"
   ]
  },
  {
   "cell_type": "code",
   "execution_count": 23,
   "metadata": {},
   "outputs": [],
   "source": [
    "model = load_model(\"40epochs_7_version_batchsize=24.h5\",custom_objects=get_custom_objects())"
   ]
  },
  {
   "cell_type": "code",
   "execution_count": 26,
   "metadata": {},
   "outputs": [],
   "source": [
    "BATCH_SIZE = 16\n",
    "maxlen = 300 #最开始是200\n",
    "\n",
    "config_path = '/openbayes/input/input1/BERT/cased_L-12_H-768_A-12/bert_config.json'\n",
    "checkpoint_path = '/openbayes/input/input1/BERT/cased_L-12_H-768_A-12/bert_model.ckpt'\n",
    "dict_path = '/openbayes/input/input1/BERT/cased_L-12_H-768_A-12/vocab.txt'"
   ]
  },
  {
   "cell_type": "code",
   "execution_count": 21,
   "metadata": {},
   "outputs": [],
   "source": [
    "def seq_padding(X, padding=0):\n",
    "    L = [len(x) for x in X]\n",
    "    ML = max(L)\n",
    "    return np.array([\n",
    "        np.concatenate([x, [padding] * (ML - len(x))]) if len(x) < ML else x for x in X\n",
    "    ])\n",
    "\n",
    "token_dict = {}\n",
    "\n",
    "with codecs.open(dict_path, 'r', 'utf8') as reader:\n",
    "    for line in reader:\n",
    "        token = line.strip()\n",
    "        token_dict[token] = len(token_dict)\n",
    "\n",
    "\n",
    "class OurTokenizer(Tokenizer):\n",
    "    def _tokenize(self, text):\n",
    "        R = []\n",
    "        for c in text:\n",
    "            if c in self._token_dict:\n",
    "                R.append(c)\n",
    "            elif self._is_space(c):\n",
    "                R.append('[unused1]') # space类用未经训练的[unused1]表示\n",
    "            else:\n",
    "                R.append('[UNK]') # 剩余的字符是[UNK]\n",
    "        return R\n",
    "\n",
    "tokenizer = OurTokenizer(token_dict)\n",
    "\n",
    "class data_generator:\n",
    "    def __init__(self, data, batch_size=BATCH_SIZE):\n",
    "        self.data = data\n",
    "        self.batch_size = batch_size\n",
    "        self.steps = len(self.data) // self.batch_size\n",
    "        if len(self.data) % self.batch_size != 0:\n",
    "            self.steps += 1\n",
    "    def __len__(self):\n",
    "        return self.steps\n",
    "    def __iter__(self):\n",
    "        while True:\n",
    "            idxs = list(range(len(self.data)))\n",
    "            np.random.shuffle(idxs)\n",
    "            X1, X2, X3, Y = [], [], [], []\n",
    "            for i in idxs:\n",
    "                d = self.data[i]\n",
    "                text = str(d[1])[:maxlen]\n",
    "                x1, x2 = tokenizer.encode(first=text)\n",
    "                imagePath = os.path.join(image_path,d[2])\n",
    "                img = image.load_img(imagePath, target_size=(224, 224))\n",
    "                x3 = image.img_to_array(img)\n",
    "                y = d[0]\n",
    "                X1.append(x1)\n",
    "                X2.append(x2)\n",
    "                X3.append(x3)\n",
    "                Y.append([y])               \n",
    "                if len(X1) == self.batch_size or i == idxs[-1]:\n",
    "                    X1 = seq_padding(X1)\n",
    "                    X2 = seq_padding(X2)\n",
    "                    X3 = np.array(X3, dtype=\"float\") / 255.0\n",
    "                    Y = seq_padding(Y)\n",
    "#                     Y = np.array(Y)\n",
    "#                     Y = to_categorical(Y, num_classes=CLASS_NUM)\n",
    "                    yield [X1, X2, X3], Y\n",
    "                    [X1, X2, X3, Y] = [], [], [], []"
   ]
  },
  {
   "cell_type": "code",
   "execution_count": 30,
   "metadata": {},
   "outputs": [],
   "source": [
    "image_path = r'/openbayes/home/img'\n",
    "\n",
    "trial_text_path = r'/openbayes/home/taskA/Task_A_trial.csv'\n",
    "trial_text_data = pd.read_csv(trial_text_path)\n",
    "trial_text_data = np.array(trial_text_data)\n",
    "trial_text_data = trial_text_data.tolist()"
   ]
  },
  {
   "cell_type": "code",
   "execution_count": 33,
   "metadata": {},
   "outputs": [
    {
     "name": "stdout",
     "output_type": "stream",
     "text": [
      "63/63 [==============================] - 25s 404ms/step\n"
     ]
    }
   ],
   "source": [
    "test_x = data_generator(trial_text_data)\n",
    "result = model.evaluate(test_x.__iter__(),steps = len(test_x))\n",
    "#predicts = model.predict(test_x, verbose=True).argmax(axis=-1)"
   ]
  },
  {
   "cell_type": "code",
   "execution_count": 34,
   "metadata": {},
   "outputs": [
    {
     "name": "stdout",
     "output_type": "stream",
     "text": [
      "[0.5741013375073671, 0.877]\n"
     ]
    }
   ],
   "source": [
    "print(result)"
   ]
  },
  {
   "cell_type": "code",
   "execution_count": 36,
   "metadata": {},
   "outputs": [
    {
     "data": {
      "text/plain": [
       "array([[5.6339636e-02, 9.4166660e-01, 1.9937798e-03],\n",
       "       [6.7916028e-02, 5.9524473e-02, 8.7255949e-01],\n",
       "       [3.6733074e-04, 9.9894243e-01, 6.9019955e-04],\n",
       "       ...,\n",
       "       [5.1072484e-04, 9.9888617e-01, 6.0312770e-04],\n",
       "       [1.0260404e-03, 9.9817240e-01, 8.0147246e-04],\n",
       "       [9.6163690e-01, 3.6992185e-02, 1.3709042e-03]], dtype=float32)"
      ]
     },
     "execution_count": 36,
     "metadata": {},
     "output_type": "execute_result"
    }
   ],
   "source": [
    "model.predict(test_x.__iter__(),steps = len(test_x))"
   ]
  },
  {
   "cell_type": "code",
   "execution_count": null,
   "metadata": {},
   "outputs": [],
   "source": []
  }
 ],
 "metadata": {
  "kernelspec": {
   "display_name": "Python 3",
   "language": "python",
   "name": "python3"
  },
  "language_info": {
   "codemirror_mode": {
    "name": "ipython",
    "version": 3
   },
   "file_extension": ".py",
   "mimetype": "text/x-python",
   "name": "python",
   "nbconvert_exporter": "python",
   "pygments_lexer": "ipython3",
   "version": "3.6.9"
  }
 },
 "nbformat": 4,
 "nbformat_minor": 4
}
