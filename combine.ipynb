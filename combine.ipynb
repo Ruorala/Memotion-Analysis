{
 "cells": [
  {
   "cell_type": "code",
   "execution_count": 36,
   "metadata": {},
   "outputs": [],
   "source": [
    "def inner_task(a,b,c,d):\n",
    "    return str(a)+str(b)+str(c)+str(d)"
   ]
  },
  {
   "cell_type": "code",
   "execution_count": 8,
   "metadata": {},
   "outputs": [],
   "source": [
    "def outside_task(a,b,c):\n",
    "    return str(a)+\"_\"+b+\"_\"+c"
   ]
  },
  {
   "cell_type": "code",
   "execution_count": 9,
   "metadata": {},
   "outputs": [],
   "source": [
    "import pandas as pd"
   ]
  },
  {
   "cell_type": "code",
   "execution_count": 42,
   "metadata": {},
   "outputs": [],
   "source": [
    "df_a = pd.read_csv(\"predict_task_A.csv\")\n",
    "df_b_1 =  pd.read_csv(\"predict_task_B_1.csv\")\n",
    "df_b_2 =  pd.read_csv(\"predict_task_B_2.csv\")\n",
    "df_b_3 =  pd.read_csv(\"predict_task_B_3.csv\")\n",
    "df_b_4 =  pd.read_csv(\"predict_task_B_4.csv\")\n",
    "df_c_1 =  pd.read_csv(\"predict_task_C_1.csv\")\n",
    "df_c_2 =  pd.read_csv(\"predict_task_C_2.csv\")\n",
    "df_c_3 =  pd.read_csv(\"predict_task_C_3.csv\")\n",
    "df_c_4 =  pd.read_csv(\"predict_task_B_4.csv\")"
   ]
  },
  {
   "cell_type": "code",
   "execution_count": 43,
   "metadata": {},
   "outputs": [],
   "source": [
    "b = [0 for i in range(len(df_a))]\n",
    "i = 0\n",
    "while i < len(df_a):\n",
    "    b[i] = inner_task(int(df_b_1['0'][i]),int(df_b_2['0'][i]),int(df_b_3['0'][i]),int(df_b_4['0'][i]))\n",
    "    i = i+1"
   ]
  },
  {
   "cell_type": "code",
   "execution_count": 44,
   "metadata": {},
   "outputs": [],
   "source": [
    "c = [0 for i in range(len(df_a))]\n",
    "i = 0\n",
    "while i < len(df_a):\n",
    "    c[i] = inner_task(df_c_1['0'][i],df_c_2['0'][i],df_c_3['0'][i],int(df_c_4['0'][i]))\n",
    "    i = i+1"
   ]
  },
  {
   "cell_type": "code",
   "execution_count": 45,
   "metadata": {},
   "outputs": [],
   "source": [
    "total = [0 for i in range(len(df_a))]\n",
    "j = 0\n",
    "while j < len(df_a):\n",
    "    total[j] = outside_task(df_a['0'][j],b[j],c[j])\n",
    "    j = j+1"
   ]
  },
  {
   "cell_type": "code",
   "execution_count": 46,
   "metadata": {},
   "outputs": [],
   "source": [
    "pd.DataFrame(total).to_csv(\"result.csv\",header = None,index = None)"
   ]
  },
  {
   "cell_type": "code",
   "execution_count": null,
   "metadata": {},
   "outputs": [],
   "source": []
  }
 ],
 "metadata": {
  "kernelspec": {
   "display_name": "Python 3",
   "language": "python",
   "name": "python3"
  },
  "language_info": {
   "codemirror_mode": {
    "name": "ipython",
    "version": 3
   },
   "file_extension": ".py",
   "mimetype": "text/x-python",
   "name": "python",
   "nbconvert_exporter": "python",
   "pygments_lexer": "ipython3",
   "version": "3.6.8"
  }
 },
 "nbformat": 4,
 "nbformat_minor": 2
}
